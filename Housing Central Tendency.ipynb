{
 "cells": [
  {
   "cell_type": "code",
   "execution_count": 26,
   "id": "dc9c1150",
   "metadata": {},
   "outputs": [],
   "source": [
    "# Import packages\n",
    "import numpy as np\n",
    "import pandas as pd\n",
    "from scipy import stats\n",
    "from matplotlib import pyplot as plt"
   ]
  },
  {
   "cell_type": "code",
   "execution_count": 4,
   "id": "98a8cccc",
   "metadata": {},
   "outputs": [
    {
     "data": {
      "text/plain": [
       "'/Users/allisonkruse/Desktop/Data_Science/housing_data'"
      ]
     },
     "execution_count": 4,
     "metadata": {},
     "output_type": "execute_result"
    }
   ],
   "source": [
    "#set working directory \n",
    "\n",
    "import os\n",
    "os.chdir('/Users/allisonkruse/desktop/Data_Science/housing_data')\n",
    "os.getcwd()\n"
   ]
  },
  {
   "cell_type": "code",
   "execution_count": 10,
   "id": "398dbf33",
   "metadata": {},
   "outputs": [],
   "source": [
    "# Read in housing data\n",
    "brooklyn_rents = pd.read_csv('brooklyn.csv')\n",
    "brooklyn_one_bed = brooklyn_rents[brooklyn_rents['bedrooms'] ==1]\n",
    "brooklyn_price = brooklyn_one_bed['rent']\n",
    "\n",
    "manhattan_rents = pd.read_csv('manhattan.csv')\n",
    "manhattan_one_bed = manhattan_rents[manhattan_rents['bedrooms']==1]\n",
    "manhattan_price = manhattan_one_bed['rent']\n",
    "\n",
    "queens_rents = pd.read_csv('queens.csv')\n",
    "queens_one_bed = queens_rents[queens_rents['bedrooms']==1]\n",
    "queens_price = queens_one_bed['rent']"
   ]
  },
  {
   "cell_type": "code",
   "execution_count": 13,
   "id": "3f550344",
   "metadata": {},
   "outputs": [
    {
     "data": {
      "text/plain": [
       "1    1950\n",
       "2    3500\n",
       "3    1725\n",
       "4    1700\n",
       "7    3100\n",
       "Name: rent, dtype: int64"
      ]
     },
     "execution_count": 13,
     "metadata": {},
     "output_type": "execute_result"
    }
   ],
   "source": [
    "queens_price.head()"
   ]
  },
  {
   "cell_type": "code",
   "execution_count": 22,
   "id": "469665a0",
   "metadata": {},
   "outputs": [
    {
     "name": "stdout",
     "output_type": "stream",
     "text": [
      "The mean price in brooklyn is 2784.855882352941\n",
      "The mean price in manhattan is 3993.4769647696476\n",
      "The mean price in queens is 2346.2543103448274\n"
     ]
    }
   ],
   "source": [
    "#find the mean of each location's one bedroom apartment rent \n",
    "brooklyn_mean=np.average(brooklyn_price)\n",
    "print('The mean price in brooklyn is ' + str(brooklyn_mean))\n",
    "\n",
    "manhattan_mean=np.average(manhattan_price)\n",
    "print('The mean price in manhattan is ' + str(manhattan_mean))\n",
    "\n",
    "queens_mean=np.average(queens_price)\n",
    "print('The mean price in queens is ' + str(queens_mean))"
   ]
  },
  {
   "cell_type": "code",
   "execution_count": 23,
   "id": "0e391294",
   "metadata": {},
   "outputs": [
    {
     "name": "stdout",
     "output_type": "stream",
     "text": [
      "The median price in brooklyn is 2800.0\n",
      "The median price in manhattan is 3800.0\n",
      "The median price in queens is 2200.0\n"
     ]
    }
   ],
   "source": [
    "#find the median of each location's one bedroom apartment rent \n",
    "brooklyn_median=np.median(brooklyn_price)\n",
    "print('The median price in brooklyn is ' + str(brooklyn_median))\n",
    "\n",
    "manhattan_median=np.median(manhattan_price)\n",
    "print('The median price in manhattan is ' + str(manhattan_median))\n",
    "\n",
    "queens_median=np.median(queens_price)\n",
    "print('The median price in queens is ' + str(queens_median))"
   ]
  },
  {
   "cell_type": "code",
   "execution_count": 25,
   "id": "9352ab7c",
   "metadata": {},
   "outputs": [
    {
     "name": "stdout",
     "output_type": "stream",
     "text": [
      "The mode price in brooklyn is ModeResult(mode=array([2200]), count=array([12]))\n",
      "The mode price in manhattan is ModeResult(mode=array([3500]), count=array([56]))\n",
      "The mode price in queens is ModeResult(mode=array([1750]), count=array([11]))\n"
     ]
    }
   ],
   "source": [
    "#find the mode of each location's one bedroom apartment rent \n",
    "brooklyn_mode=stats.mode(brooklyn_price)\n",
    "print('The mode price in brooklyn is ' + str(brooklyn_mode))\n",
    "\n",
    "manhattan_mode=stats.mode(manhattan_price)\n",
    "print('The mode price in manhattan is ' + str(manhattan_mode))\n",
    "\n",
    "queens_mode=stats.mode(queens_price)\n",
    "print('The mode price in queens is ' + str(queens_mode))"
   ]
  },
  {
   "cell_type": "code",
   "execution_count": 43,
   "id": "02d88011",
   "metadata": {},
   "outputs": [
    {
     "data": {
      "image/png": "[encoded data removed]",
      "text/plain": [
       "<Figure size 432x288 with 1 Axes>"
      ]
     },
     "metadata": {
      "needs_background": "light"
     },
     "output_type": "display_data"
    }
   ],
   "source": [
    "# Plot the Brooklyn one bedroom rents\n",
    "plt.hist(brooklyn_price, range=(800, 7000), bins=14,  edgecolor='black')\n",
    "plt.title(\"Brooklyn One Bedroom Rents\")\n",
    "plt.xlabel(\"Rent\")\n",
    "plt.ylabel(\"Count\")\n",
    "plt.axvline(brooklyn_mean, color='r', linestyle='solid', linewidth=2, label=\"Mean\")\n",
    "plt.axvline(brooklyn_median, color='y', linestyle='solid', linewidth=2, label=\"Median\")\n",
    "plt.legend()\n",
    "\n",
    "plt.show()"
   ]
  },
  {
   "cell_type": "code",
   "execution_count": 40,
   "id": "43dc75d5",
   "metadata": {},
   "outputs": [
    {
     "data": {
      "image/png": "[encoded data removed]",
      "text/plain": [
       "<Figure size 432x288 with 1 Axes>"
      ]
     },
     "metadata": {
      "needs_background": "light"
     },
     "output_type": "display_data"
    }
   ],
   "source": [
    "# Plot the Manhattan one bedroom rents\n",
    "plt.hist(manhattan_price, range=(800, 10000), bins=14,  edgecolor='black')\n",
    "plt.title(\"Manhattan One Bedroom Rents\")\n",
    "plt.xlabel(\"Rent\")\n",
    "plt.ylabel(\"Count\")\n",
    "plt.axvline(manhattan_mean, color='r', linestyle='solid', linewidth=2, label=\"Mean\")\n",
    "plt.axvline(manhattan_median, color='y', linestyle='solid', linewidth=2, label=\"Median\")\n",
    "plt.legend()\n",
    "\n",
    "plt.show()"
   ]
  },
  {
   "cell_type": "code",
   "execution_count": null,
   "id": "ade758f4",
   "metadata": {},
   "outputs": [],
   "source": []
  }
 ],
 "metadata": {
  "kernelspec": {
   "display_name": "Python 3 (ipykernel)",
   "language": "python",
   "name": "python3"
  },
  "language_info": {
   "codemirror_mode": {
    "name": "ipython",
    "version": 3
   },
   "file_extension": ".py",
   "mimetype": "text/x-python",
   "name": "python",
   "nbconvert_exporter": "python",
   "pygments_lexer": "ipython3",
   "version": "3.9.7"
  }
 },
 "nbformat": 4,
 "nbformat_minor": 5
}
